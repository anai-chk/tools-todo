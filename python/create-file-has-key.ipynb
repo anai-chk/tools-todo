{
 "cells": [
  {
   "cell_type": "code",
   "execution_count": 1,
   "metadata": {},
   "outputs": [
    {
     "name": "stdout",
     "output_type": "stream",
     "text": [
      "Collecting pyAesCrypt\n",
      "  Downloading pyAesCrypt-6.1.1-py3-none-any.whl.metadata (5.2 kB)\n",
      "Collecting cryptography (from pyAesCrypt)\n",
      "  Downloading cryptography-43.0.1-cp39-abi3-win_amd64.whl.metadata (5.4 kB)\n",
      "Collecting cffi>=1.12 (from cryptography->pyAesCrypt)\n",
      "  Downloading cffi-1.17.1-cp312-cp312-win_amd64.whl.metadata (1.6 kB)\n",
      "Collecting pycparser (from cffi>=1.12->cryptography->pyAesCrypt)\n",
      "  Downloading pycparser-2.22-py3-none-any.whl.metadata (943 bytes)\n",
      "Downloading pyAesCrypt-6.1.1-py3-none-any.whl (16 kB)\n",
      "Downloading cryptography-43.0.1-cp39-abi3-win_amd64.whl (3.1 MB)\n",
      "   ---------------------------------------- 0.0/3.1 MB ? eta -:--:--\n",
      "   ---------------------------------------- 3.1/3.1 MB 19.9 MB/s eta 0:00:00\n",
      "Downloading cffi-1.17.1-cp312-cp312-win_amd64.whl (181 kB)\n",
      "Downloading pycparser-2.22-py3-none-any.whl (117 kB)\n",
      "Installing collected packages: pycparser, cffi, cryptography, pyAesCrypt\n",
      "Successfully installed cffi-1.17.1 cryptography-43.0.1 pyAesCrypt-6.1.1 pycparser-2.22\n"
     ]
    }
   ],
   "source": [
    "!pip install pyAesCrypt"
   ]
  },
  {
   "cell_type": "code",
   "execution_count": 4,
   "metadata": {},
   "outputs": [],
   "source": [
    "import pyAesCrypt\n",
    "\n",
    "def encrypt_file(password: str, file_path: str):\n",
    "    buffer_size = 64 * 1024  # バッファサイズ\n",
    "    pyAesCrypt.encryptFile(file_path, file_path + \".aes\", password, buffer_size)\n",
    "\n",
    "def decrypt_file(password: str, enc_file_path: str):\n",
    "    buffer_size = 64 * 1024  # バッファサイズ\n",
    "    pyAesCrypt.decryptFile(enc_file_path, enc_file_path.replace('.aes', ''), password, buffer_size)\n",
    "\n",
    "# 使用例\n",
    "password = \"mysecretpassword\"\n",
    "file_path = r'C:\\Users\\010402\\Downloads\\dump-Rebuild_Ciel-202409281129'\n",
    "\n",
    "encrypt_file(password, file_path)\n",
    "decrypt_file(password, file_path + \".aes\")"
   ]
  },
  {
   "cell_type": "code",
   "execution_count": null,
   "metadata": {},
   "outputs": [],
   "source": []
  }
 ],
 "metadata": {
  "kernelspec": {
   "display_name": ".venv",
   "language": "python",
   "name": "python3"
  },
  "language_info": {
   "codemirror_mode": {
    "name": "ipython",
    "version": 3
   },
   "file_extension": ".py",
   "mimetype": "text/x-python",
   "name": "python",
   "nbconvert_exporter": "python",
   "pygments_lexer": "ipython3",
   "version": "3.12.0"
  }
 },
 "nbformat": 4,
 "nbformat_minor": 2
}

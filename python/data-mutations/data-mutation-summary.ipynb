{
 "cells": [
  {
   "cell_type": "markdown",
   "metadata": {},
   "source": [
    "# チェックリストを集計する\n",
    "\n",
    "## 目的\n",
    "- データ更新用のツールがどの範囲を抑えればいいか確認するため\n",
    "\n",
    "## 知りたい内容\n",
    "1. 2024年度のデータ更新においてCielがどのくらいの割合を占めているのか\n",
    "2. そのCielの更新の中で、データベースを参照するシステムの更新がどのくらいあるのか\n",
    "3. その更新内容の内訳(検索？印刷？)を割り出す。\n",
    "\n",
    "## 方法\n",
    "1. 対象のファイルがある範囲を絞り込む\n",
    "   - システムの更新対象がCielに設定されているものを割り出す。\n",
    "   - Cielの更新対象の同フォルダー内にmapinfo, kobetukinouinfos, updateのいずれかの単語が含まれているものを取得する\n",
    "2. ファイルの中の更新内容を精査する\n",
    "   - 人力で集計(2h?)\n",
    "\n",
    "## 期待される出力\n",
    "|フォルダーの名前|更新対象のシステム|DBの更新が含まれているか|更新内容(RcrsCoreMapDBの更新のみ)|対象のフォルダパス|更新日時|\n",
    "|--|--|--|--|--|--|\n",
    "|20240104_LG442143_大分県国東市_Aegisアイコン削除|Ciel|x|-|\\\\alice\\DC更新用\\!更新済み\\2024更新済み\\01\\04\\20240104_LG442143_大分県国東市_Aegisアイコン削除|2024/01/04|\n",
    "|20240109_LG434477_熊本県山都町全課航空写真追加_Ciel_河津|Ciel|〇|-|\\\\alice\\DC更新用\\!更新済み\\2024更新済み\\01\\09|2024/01/09|"
   ]
  },
  {
   "cell_type": "code",
   "execution_count": 41,
   "metadata": {},
   "outputs": [
    {
     "name": "stdout",
     "output_type": "stream",
     "text": [
      "Requirement already satisfied: pandas in c:\\users\\010402\\projects\\tools-todo\\.venv\\lib\\site-packages (2.2.3)\n",
      "Requirement already satisfied: numpy>=1.26.0 in c:\\users\\010402\\projects\\tools-todo\\.venv\\lib\\site-packages (from pandas) (2.1.3)\n",
      "Requirement already satisfied: python-dateutil>=2.8.2 in c:\\users\\010402\\projects\\tools-todo\\.venv\\lib\\site-packages (from pandas) (2.9.0.post0)\n",
      "Requirement already satisfied: pytz>=2020.1 in c:\\users\\010402\\projects\\tools-todo\\.venv\\lib\\site-packages (from pandas) (2024.2)\n",
      "Requirement already satisfied: tzdata>=2022.7 in c:\\users\\010402\\projects\\tools-todo\\.venv\\lib\\site-packages (from pandas) (2024.2)\n",
      "Requirement already satisfied: six>=1.5 in c:\\users\\010402\\projects\\tools-todo\\.venv\\lib\\site-packages (from python-dateutil>=2.8.2->pandas) (1.16.0)\n"
     ]
    },
    {
     "name": "stderr",
     "output_type": "stream",
     "text": [
      "\n",
      "[notice] A new release of pip is available: 24.2 -> 24.3.1\n",
      "[notice] To update, run: python.exe -m pip install --upgrade pip\n"
     ]
    }
   ],
   "source": [
    "!pip install pandas"
   ]
  },
  {
   "cell_type": "code",
   "execution_count": null,
   "metadata": {},
   "outputs": [],
   "source": [
    "import os\n",
    "import pandas as pd\n",
    "\n",
    "\"\"\"_summary_\n",
    "output: データ更新の更新フォルダーのリスト\n",
    "\n",
    "e.g. ['abstract_folder_path', ]\n",
    "\"\"\"\n",
    "def get_data_mutation_folder_list(root_folder_path):\n",
    "    # すべてのフォルダーリストを取得する\n",
    "    folder_list = []\n",
    "    for month in os.listdir(root_folder_path):\n",
    "        month_path = os.path.join(root_folder_path, month)\n",
    "        if os.path.isdir(month_path):\n",
    "            for day in os.listdir(month_path):\n",
    "                day_path = os.path.join(month_path, day)\n",
    "                if os.path.isdir(day_path):\n",
    "                    folder_list.append(day_path)\n",
    "    return folder_list\n",
    "\"\"\"_summary_\n",
    "output: データ更新の集計結果のリスト\n",
    "\n",
    "リストのheader: |フォルダーの名前|更新対象のシステム|DBの更新が含まれているか|更新内容(RcrsCoreMapDBの更新のみ)|対象のフォルダパス|更新日時|\n",
    "\"\"\"\n",
    "def get_data_mutation_list(folder_list):\n",
    "    # フォルダーリストのパスを修正する\n",
    "    folder_list = [folder.replace('\\\\\\\\', '\\\\') for folder in folder_list]\n",
    "    # フォルダーリストからデータ更新のリストを作成する                \n",
    "    data_mutation_list = []\n",
    "    for folder in folder_list:\n",
    "        folder_name = os.path.basename(folder)\n",
    "        month = os.path.basename(os.path.dirname(folder))\n",
    "        day = os.path.basename(folder)\n",
    "        update_date = f\"2024/{month}/{day}\"\n",
    "        target_folder_path = os.path.join(root_folder_path, month, day, folder_name)\n",
    "        data_mutation_list.append([folder_name, \"\", \"\", \"\", target_folder_path, update_date])\n",
    "    return data_mutation_list\n",
    "\n",
    "root_folder_path = os.path.abspath(r\"\\\\alice\\DC更新用\\!更新済み\\2024更新済み\")\n",
    "# get_data_mutation_list(get_data_mutation_folder_list(root_folder_path))\n",
    "folder_list = get_data_mutation_folder_list(root_folder_path)\n",
    "[folder.replace('\\\\\\\\', '\\\\') for folder in folder_list]\n",
    "\n",
    "mutation_list = get_data_mutation_list(get_data_mutation_folder_list(root_folder_path))\n",
    "\n",
    "def export_csv_from_aarray(aarray):\n",
    "    df = pd.DataFrame(aarray)\n",
    "    \n",
    "    df.to_csv('data_mutation_list.csv', index=False, header=False, encoding='utf-8-sig')\n",
    "    \n",
    "export_csv_from_aarray(mutation_list)"
   ]
  },
  {
   "cell_type": "code",
   "execution_count": null,
   "metadata": {},
   "outputs": [],
   "source": []
  },
  {
   "cell_type": "code",
   "execution_count": null,
   "metadata": {},
   "outputs": [],
   "source": []
  }
 ],
 "metadata": {
  "kernelspec": {
   "display_name": ".venv",
   "language": "python",
   "name": "python3"
  },
  "language_info": {
   "codemirror_mode": {
    "name": "ipython",
    "version": 3
   },
   "file_extension": ".py",
   "mimetype": "text/x-python",
   "name": "python",
   "nbconvert_exporter": "python",
   "pygments_lexer": "ipython3",
   "version": "3.12.0"
  }
 },
 "nbformat": 4,
 "nbformat_minor": 2
}
